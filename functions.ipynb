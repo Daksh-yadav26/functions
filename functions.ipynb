{
  "nbformat": 4,
  "nbformat_minor": 0,
  "metadata": {
    "colab": {
      "provenance": []
    },
    "kernelspec": {
      "name": "python3",
      "display_name": "Python 3"
    },
    "language_info": {
      "name": "python"
    }
  },
  "cells": [
    {
      "cell_type": "markdown",
      "source": [
        "**1. What is the difference between a function and a method in Python?**\n",
        "\n",
        "Function: A block of reusable code that performs a specific task. Defined using def, and can exist independently.\n",
        "\n",
        "\n",
        "# def greet():\n",
        "#        print(\"Hello\")\n",
        "# greet()\n",
        "\n",
        "\n",
        "Method: A function that is associated with an object and is called on that object (usually a class instance).\n",
        "\n",
        "# name = \"Alice\"\n",
        "# print(name.upper())    # upper() is a method of string objects\n"
      ],
      "metadata": {
        "id": "4HFitiLsM4Hi"
      }
    },
    {
      "cell_type": "markdown",
      "source": [
        "**2. Explain the concept of function arguments and parameters in Python.**\n",
        "\n",
        "Parameters: The variable names in the function definition.\n",
        "\n",
        "# def greet(name):  # 'name' is a parameter\n",
        "\n",
        "    print(\"Hello\", name)\n",
        "\n",
        "\n",
        "Arguments: The actual values passed to the function when it's called.\n",
        "\n",
        "# greet(\"Alice\")  # \"Alice\" is an argument"
      ],
      "metadata": {
        "id": "Qu0J8CVSNzs5"
      }
    },
    {
      "cell_type": "markdown",
      "source": [
        "**3. What are the different ways to define and call a function in Python?**\n",
        "\n",
        "In Python, functions are first-class objects, which means they can be defined in multiple ways and passed around like variables. Understanding how to define and call them is fundamental to Python programming.\n",
        "\n",
        "Defining a Function in Python\n",
        "\n",
        "Functions in Python can be defined using different approaches:\n",
        "\n",
        "1. Using the def Keyword (Standard Function Definition)\n",
        "\n",
        "This is the most common way to define a function.\n",
        "\n",
        "# def function_name(parameters):\n",
        "\n",
        "    # function body\n",
        "    return value\n",
        "\n",
        "\n",
        "def is a keyword used to declare a function.\n",
        "\n",
        "The function can take zero or more parameters.\n",
        "\n",
        "The return statement is optional.\n",
        "\n",
        "#Example:\n",
        "\n",
        "#def greet(name):\n",
        "    return f\"Hello, {name}!\"\n",
        "\n",
        "Calling a Function in Python\n",
        "\n",
        "To execute a function, you call it by using its name followed by parentheses (). If the function requires arguments, you must pass them in the parentheses.\n",
        "\n",
        "Ways to call a function:\n",
        "1. Positional Arguments\n",
        "\n",
        "Pass arguments in the order defined.\n",
        "\n",
        "#example:\n",
        "\n",
        "#def add(a, b):\n",
        "   # return a + b\n",
        "\n",
        "#add(2, 3)  \n",
        "#output= 5"
      ],
      "metadata": {
        "id": "ZTSSqsV-PF2v"
      }
    },
    {
      "cell_type": "markdown",
      "source": [
        "**4.What is the purpose of the return statement in a Python function?**\n",
        "\n",
        "It ends the function and sends a value back to the caller.\n",
        "\n",
        "Without return, the function returns None by default.\n",
        "\n",
        "#def square(x):\n",
        "#     return x * x\n",
        "\n",
        "#result = square(4)  # result = 16"
      ],
      "metadata": {
        "id": "pZ_MJoDGQo2A"
      }
    },
    {
      "cell_type": "markdown",
      "source": [
        "**5. What are iterators in Python and how do they differ from iterables?**\n",
        "\n",
        "Iterable: An object that can be looped over (like a list, string, tuple).\n",
        "\n",
        "Iterator: An object that produces items one at a time using __next__() until exhausted.\n",
        "\n",
        "#nums = [1, 2, 3]      # Iterable\n",
        "#it = iter(nums)       # Iterator\n",
        "#print(next(it))       # 1\n",
        "\n",
        "\n",
        "Difference:\n",
        "\n",
        "Iterable has __iter__() method.\n",
        "\n",
        "Iterator has both __iter__() and __next__()."
      ],
      "metadata": {
        "id": "CAW2frM7Q9jw"
      }
    },
    {
      "cell_type": "markdown",
      "source": [
        "**6. Explain the concept of generators in Python and how they are defined.**\n",
        "\n",
        "A generator is a special kind of iterator that yields values one at a time using the yield keyword.\n",
        "\n",
        "They are memory-efficient and lazy-evaluated.\n",
        "\n",
        "#def count_up_to(n):\n",
        "    i = 1\n",
        "    while i <= n:\n",
        "        yield i\n",
        "        i += 1\n",
        "\n",
        "#gen = count_up_to(3)\n",
        "#print(next(gen))  # 1"
      ],
      "metadata": {
        "id": "MxHKuYGSRNdM"
      }
    },
    {
      "cell_type": "markdown",
      "source": [
        "**7. What are the advantages of using generators over regular functions?**\n",
        "\n",
        "Memory Efficient: Don't store the entire sequence in memory.\n",
        "\n",
        "Lazy Evaluation: Compute values on-the-fly.\n",
        "\n",
        "Infinite Sequences: Useful for representing streams or large data sets."
      ],
      "metadata": {
        "id": "CxZEZZnpRbRD"
      }
    },
    {
      "cell_type": "markdown",
      "source": [
        "**8. What is a lambda function in Python and when is it typically used?**\n",
        "\n",
        "An anonymous function defined using lambda, typically used for short, simple operations.\n",
        "\n",
        "#square = lambda x: x * x\n",
        "#print(square(5))  # 25\n",
        "\n",
        "\n",
        "Common Use Cases:\n",
        "\n",
        "Used with map(), filter(), sorted(), etc."
      ],
      "metadata": {
        "id": "bZRUOUSGRidr"
      }
    },
    {
      "cell_type": "markdown",
      "source": [
        "9. Explain the purpose and usage of the map() function in Python.\n",
        "**bold text**\n",
        "map() applies a function to every item in an iterable.\n",
        "\n",
        "#nums = [1, 2, 3]\n",
        "#squared = list(map(lambda x: x**2, nums))\n",
        "#print(squared)  # [1, 4, 9]"
      ],
      "metadata": {
        "id": "fV4SblIHRwXE"
      }
    },
    {
      "cell_type": "markdown",
      "source": [
        "10.** What is the difference between map(), reduce(), and filter() functions in Python?**\n",
        "**bold text**\n",
        "1. map(func, iterable)-  \n",
        "\n",
        "Applies func to each item\n",
        "\t  \n",
        "\n",
        "   Transformed iterable\n",
        "\n",
        "  2. filter(func, iterable)-\n",
        "\n",
        "Keeps items where func(item) is True\n",
        "\n",
        "Filtered iterable\n",
        "\n",
        "3.reduce(func, iterable) -\n",
        "\n",
        "Applies func cumulatively to reduce to a single value\n",
        "\n",
        "Single result"
      ],
      "metadata": {
        "id": "v5gcW94GR8RF"
      }
    },
    {
      "cell_type": "code",
      "source": [
        "#practical questions\n",
        "\n",
        "#. Write a Python function that takes a list of numbers as input and returns the sum of all even numbers in the list\n",
        "def sum_even_numbers(numbers):\n",
        "    return sum(num for num in numbers if num % 2 == 0)\n",
        "\n",
        "# Example\n",
        "print(sum_even_numbers([1, 2, 3, 4, 5, 6]))"
      ],
      "metadata": {
        "colab": {
          "base_uri": "https://localhost:8080/"
        },
        "id": "ZJAjVecmT2BQ",
        "outputId": "6360d617-0fd4-4e0d-9a39-91fb4441942b"
      },
      "execution_count": 1,
      "outputs": [
        {
          "output_type": "stream",
          "name": "stdout",
          "text": [
            "12\n"
          ]
        }
      ]
    },
    {
      "cell_type": "code",
      "source": [
        "#. Create a Python function that accepts a string and returns the reverse of that string.\n",
        "def reverse_string(text):\n",
        "    return text[::-1]\n",
        "\n",
        "# Example\n",
        "print(reverse_string(\"hello\"))\n",
        "\n"
      ],
      "metadata": {
        "colab": {
          "base_uri": "https://localhost:8080/"
        },
        "id": "SKJ_B1a2UF5J",
        "outputId": "9bb17a24-06da-444a-dc4f-7721e2450e21"
      },
      "execution_count": 2,
      "outputs": [
        {
          "output_type": "stream",
          "name": "stdout",
          "text": [
            "olleh\n"
          ]
        }
      ]
    },
    {
      "cell_type": "code",
      "source": [
        "#Implement a Python function that takes a list of integers and returns a new list containing the squares of each number\n",
        "def square_list(numbers):\n",
        "    return [num ** 2 for num in numbers]\n",
        "\n",
        "# Example\n",
        "print(square_list([1, 2, 3]))"
      ],
      "metadata": {
        "colab": {
          "base_uri": "https://localhost:8080/"
        },
        "id": "LJ89Z12RUYFL",
        "outputId": "f03aab39-36dc-4fd5-fee2-d4634de43ce5"
      },
      "execution_count": 3,
      "outputs": [
        {
          "output_type": "stream",
          "name": "stdout",
          "text": [
            "[1, 4, 9]\n"
          ]
        }
      ]
    },
    {
      "cell_type": "code",
      "source": [
        "#Write a Python function that checks if a given number is prime or not from 1 to 200.\n",
        "def is_prime(n):\n",
        "    if n <= 1:\n",
        "        return False\n",
        "    for i in range(2, int(n ** 0.5)+1):\n",
        "        if n % i == 0:\n",
        "            return False\n",
        "    return True\n",
        "    # Example\n",
        "print(is_prime(7))\n",
        "print(is_prime(100))\n"
      ],
      "metadata": {
        "colab": {
          "base_uri": "https://localhost:8080/"
        },
        "id": "ZqR6i931UrAW",
        "outputId": "7d38034c-f7e1-4d32-f720-47af2ece0f5d"
      },
      "execution_count": 6,
      "outputs": [
        {
          "output_type": "stream",
          "name": "stdout",
          "text": [
            "True\n",
            "False\n"
          ]
        }
      ]
    },
    {
      "cell_type": "code",
      "source": [
        "#. Create an iterator class in Python that generates the Fibonacci sequence up to a specified number of terms\n",
        "class Fibonacci:\n",
        "    def __init__(self, terms):\n",
        "        self.terms = terms\n",
        "        self.a, self.b = 0, 1\n",
        "        self.count = 0\n",
        "\n",
        "    def __iter__(self):\n",
        "        return self\n",
        "\n",
        "    def __next__(self):\n",
        "        if self.count >= self.terms:\n",
        "            raise StopIteration\n",
        "        self.a, self.b = self.b, self.a + self.b\n",
        "        self.count += 1\n",
        "        return self.a\n",
        "\n",
        "# Example\n",
        "for num in Fibonacci(7):\n",
        "    print(num, end=' ')"
      ],
      "metadata": {
        "colab": {
          "base_uri": "https://localhost:8080/"
        },
        "id": "kX2aUtoHU14-",
        "outputId": "85a5a888-69de-4f08-d176-a0053945b871"
      },
      "execution_count": 7,
      "outputs": [
        {
          "output_type": "stream",
          "name": "stdout",
          "text": [
            "1 1 2 3 5 8 13 "
          ]
        }
      ]
    },
    {
      "cell_type": "code",
      "source": [
        "# Write a generator function in Python that yields the powers of 2 up to a given exponent.\n",
        "def powers_of_two(max_exp):\n",
        "    for i in range(max_exp + 1):\n",
        "        yield 2 ** i\n",
        "\n",
        "# Example\n",
        "for power in powers_of_two(5):\n",
        "    print(power, end=' ')"
      ],
      "metadata": {
        "colab": {
          "base_uri": "https://localhost:8080/"
        },
        "id": "1J1HTI6kVTYp",
        "outputId": "806d49eb-b109-402e-a1d6-592edf1efea3"
      },
      "execution_count": 8,
      "outputs": [
        {
          "output_type": "stream",
          "name": "stdout",
          "text": [
            "1 2 4 8 16 32 "
          ]
        }
      ]
    },
    {
      "cell_type": "code",
      "source": [
        "# Implement a generator function that reads a file line by line and yields each line as a string\n",
        "def read_file_lines(filename):\n",
        "    with open(filename, 'r') as file:\n",
        "        for line in file:\n",
        "            yield line.strip()\n",
        "            # Example (Assume file.txt exists)\n",
        "# for line in read_file_lines(\"file.txt\"):\n",
        "#     print(line)\n"
      ],
      "metadata": {
        "id": "FUb8NK9HVbtR"
      },
      "execution_count": 10,
      "outputs": []
    },
    {
      "cell_type": "code",
      "source": [
        "# Use a lambda function in Python to sort a list of tuples based on the second element of each tuple.\n",
        "tuples = [(1, 3), (2, 1), (4, 2)]\n",
        "sorted_tuples = sorted(tuples, key=lambda x: x[1])\n",
        "\n",
        "print(sorted_tuples)"
      ],
      "metadata": {
        "colab": {
          "base_uri": "https://localhost:8080/"
        },
        "id": "f4CYs0FNVnHp",
        "outputId": "a15642d7-73be-4028-fa8a-aca93b61825d"
      },
      "execution_count": 11,
      "outputs": [
        {
          "output_type": "stream",
          "name": "stdout",
          "text": [
            "[(2, 1), (4, 2), (1, 3)]\n"
          ]
        }
      ]
    },
    {
      "cell_type": "code",
      "source": [
        "# Write a Python program that uses `map()` to convert a list of temperatures from Celsius to Fahrenheit.\n",
        "celsius = [0, 10, 20, 30]\n",
        "fahrenheit = list(map(lambda c: (c * 9/5) + 32, celsius))\n",
        "\n",
        "print(fahrenheit)"
      ],
      "metadata": {
        "colab": {
          "base_uri": "https://localhost:8080/"
        },
        "id": "HRrOM1QxV0SL",
        "outputId": "d5bc7c12-22f0-4beb-81ba-beb84841ffe2"
      },
      "execution_count": 12,
      "outputs": [
        {
          "output_type": "stream",
          "name": "stdout",
          "text": [
            "[32.0, 50.0, 68.0, 86.0]\n"
          ]
        }
      ]
    },
    {
      "cell_type": "code",
      "source": [
        "#Create a Python program that uses `filter()` to remove all the vowels from a given string.\n",
        "def remove_vowels(text):\n",
        "    vowels = 'aeiouAEIOU'\n",
        "    return ''.join(filter(lambda ch: ch not in vowels, text))\n",
        "\n",
        "# Example\n",
        "print(remove_vowels(\"Hello World\"))"
      ],
      "metadata": {
        "colab": {
          "base_uri": "https://localhost:8080/"
        },
        "id": "KEym9R2NV60U",
        "outputId": "58adfa61-7e77-46bf-8cf9-b1f56d5e238e"
      },
      "execution_count": 13,
      "outputs": [
        {
          "output_type": "stream",
          "name": "stdout",
          "text": [
            "Hll Wrld\n"
          ]
        }
      ]
    },
    {
      "cell_type": "code",
      "source": [],
      "metadata": {
        "id": "GjFIzg5dWELl"
      },
      "execution_count": null,
      "outputs": []
    }
  ]
}